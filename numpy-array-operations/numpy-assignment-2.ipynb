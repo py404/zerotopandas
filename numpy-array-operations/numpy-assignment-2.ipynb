{
 "cells": [
  {
   "cell_type": "markdown",
   "metadata": {},
   "source": [
    "# 5 underrated numpy array functions that you should know of.\n",
    "### Numpy functions with real-time examples\n",
    "\n",
    "Numpy stands for Numerical Python. It is a scientific computing package in Python (from numpy website). \n",
    "\n",
    "Numpy library helps us create, manipulate, shape manipulation, sorting, selecting and many more things on n-dimensional arrays. \n",
    "\n",
    "Numpy is a very powerful library and is extremely fast than the in-built Python's lists.\n",
    "\n",
    "In this notebook I will try to explain about 5 underrated numpy routines (functions) with some real-world examples. \n",
    "\n",
    "The functions that I will be covering in this notebook are:\n",
    "- np.reshape() - shape manipulation\n",
    "- np.where() - searching operation\n",
    "- np.stack() - shape manipulation\n",
    "- np.argmax() - searching operation\n",
    "- np.cumsum() - statistical operation"
   ]
  },
  {
   "cell_type": "markdown",
   "metadata": {},
   "source": [
    "Import libraries"
   ]
  },
  {
   "cell_type": "code",
   "execution_count": 57,
   "metadata": {},
   "outputs": [
    {
     "data": {
      "application/javascript": [
       "if (window.IPython && IPython.notebook.kernel) IPython.notebook.kernel.execute('jovian.utils.jupyter.get_notebook_name_saved = lambda: \"' + IPython.notebook.notebook_name + '\"')"
      ],
      "text/plain": [
       "<IPython.core.display.Javascript object>"
      ]
     },
     "metadata": {},
     "output_type": "display_data"
    }
   ],
   "source": [
    "import numpy as np\n",
    "import jovian"
   ]
  },
  {
   "cell_type": "markdown",
   "metadata": {},
   "source": [
    "# List of functions explained \n",
    "- function1 = np.reshape()  => for changing the shape of arrays\n",
    "- function2 = numpy.where() => for SQL like operations\n",
    "- function3 = numpy.stack() => for stacking multiple arrays => used in real-time image processing\n",
    "- function4 = numpy.argmax() => for finding out the indices of maximum values in an array\n",
    "- function5 = numpy.cumsum() => for calculating the running total => used in finance and sales applications\n",
    "\n",
    "Let us start!!!"
   ]
  },
  {
   "cell_type": "markdown",
   "metadata": {},
   "source": [
    "# Function 1 - np.reshape\n",
    "\n",
    "Suppose that we are collecting the room temperatures of our home every day once every six hours (i.e. 4 times in a day).\n",
    "\n",
    "Now from the picture below lets say that the temperatures collected in a day are: (C = celsius, F = fahrenheit)\n",
    "- C,F,C,F,C,F,C,F \n",
    "\n",
    "And we would like to convert this list or 1 dimensional array into a 2 dimensional array which looks more intuitive and easy to understand (like a pair).\n",
    "\n",
    "![Temperatures](https://raw.githubusercontent.com/py404/zerotopandas/master/numpy-array-operations/temperatures.png)\n",
    "\n",
    "To do that we use reshape() function (odd places = celsius, even places = fahrenheit)."
   ]
  },
  {
   "cell_type": "markdown",
   "metadata": {},
   "source": [
    "### Example 1"
   ]
  },
  {
   "cell_type": "code",
   "execution_count": 16,
   "metadata": {},
   "outputs": [
    {
     "data": {
      "text/plain": [
       "array([[14. , 57.2],\n",
       "       [ 7. , 44.6],\n",
       "       [18. , 66.4],\n",
       "       [25. , 77. ]])"
      ]
     },
     "execution_count": 16,
     "metadata": {},
     "output_type": "execute_result"
    }
   ],
   "source": [
    "temperatures = [14, 57.2, 7, 44.6, 18, 66.4, 25, 77]\n",
    "\n",
    "new_temperatures = np.reshape(temperatures, newshape=(4,2))\n",
    "new_temperatures"
   ]
  },
  {
   "cell_type": "markdown",
   "metadata": {},
   "source": [
    "Now it is easy to understand our data or easy to extract the temperature pairs.\n",
    "\n",
    "We have transformed our 1 dimensional array (list) into a 2 dimensional array using the \"newshape=(4,2)\" i.e. 4 rows and 2 columns."
   ]
  },
  {
   "cell_type": "code",
   "execution_count": 17,
   "metadata": {},
   "outputs": [
    {
     "name": "stdout",
     "output_type": "stream",
     "text": [
      "Below are the temperatures recorded today:\n",
      "Celsius: 14.0, Fahrenheit: 57.2\n",
      "Celsius: 7.0, Fahrenheit: 44.6\n",
      "Celsius: 18.0, Fahrenheit: 66.4\n",
      "Celsius: 25.0, Fahrenheit: 77.0\n"
     ]
    }
   ],
   "source": [
    "print('Below are the temperatures recorded today:')\n",
    "for c,f in new_temperatures:\n",
    "    print(f'Celsius: {c}, Fahrenheit: {f}')"
   ]
  },
  {
   "cell_type": "markdown",
   "metadata": {},
   "source": [
    "### Explanation about example\n",
    "In the example above we have successfully transformed a 1-D array into a 2-D array which is meaningful and easy to understand. \n",
    "\n",
    "Now an end user can extract the array elements in pairs to do a quick analysis of temperatures recorded."
   ]
  },
  {
   "cell_type": "markdown",
   "metadata": {},
   "source": [
    "### Example 2\n",
    "\n",
    "Let's say that we are collecting the time taken by five F1 racers to finish each lap (in minutes).\n",
    "\n",
    "The data collected is in the format of list of lists."
   ]
  },
  {
   "cell_type": "code",
   "execution_count": 18,
   "metadata": {},
   "outputs": [
    {
     "data": {
      "text/plain": [
       "array([3.1 , 2.73, 2.64, 3.05, 2.99, 2.71, 2.99, 2.94, 2.94, 2.58, 3.01,\n",
       "       3.73, 2.74, 3.86, 3.62])"
      ]
     },
     "execution_count": 18,
     "metadata": {},
     "output_type": "execute_result"
    }
   ],
   "source": [
    "lap_times = [\n",
    "    [3.1, 2.73, 2.64, 3.05, 2.99],\n",
    "    [2.71, 2.99, 2.94, 2.94, 2.58],\n",
    "    [3.01, 3.73, 2.74, 3.86, 3.62]\n",
    "]\n",
    "\n",
    "## Now to analyse the overall times taken by all racers, or observe the trend of lap times of all racers, we would like to combine all into one big array\n",
    "## In that case we transform our (3,5) (2-D) array into a 1-D array.\n",
    "\n",
    "all_lap_times = np.reshape(lap_times, newshape=-1)\n",
    "all_lap_times"
   ]
  },
  {
   "cell_type": "code",
   "execution_count": 19,
   "metadata": {},
   "outputs": [
    {
     "data": {
      "text/plain": [
       "(15,)"
      ]
     },
     "execution_count": 19,
     "metadata": {},
     "output_type": "execute_result"
    }
   ],
   "source": [
    "all_lap_times.shape"
   ]
  },
  {
   "cell_type": "markdown",
   "metadata": {},
   "source": [
    "### Printing the dimension of our new array"
   ]
  },
  {
   "cell_type": "code",
   "execution_count": 20,
   "metadata": {},
   "outputs": [
    {
     "data": {
      "text/plain": [
       "1"
      ]
     },
     "execution_count": 20,
     "metadata": {},
     "output_type": "execute_result"
    }
   ],
   "source": [
    "all_lap_times.ndim"
   ]
  },
  {
   "cell_type": "markdown",
   "metadata": {},
   "source": [
    "In the above example, a 3 dimensional array is converted into a 1 dimensional array using the reshape option \"-1\"."
   ]
  },
  {
   "cell_type": "code",
   "execution_count": 21,
   "metadata": {},
   "outputs": [
    {
     "ename": "ValueError",
     "evalue": "cannot reshape array of size 15 into shape (2,15)",
     "output_type": "error",
     "traceback": [
      "\u001b[1;31m---------------------------------------------------------------------------\u001b[0m",
      "\u001b[1;31mValueError\u001b[0m                                Traceback (most recent call last)",
      "\u001b[1;32m<ipython-input-21-2bcf6035a9d5>\u001b[0m in \u001b[0;36m<module>\u001b[1;34m\u001b[0m\n\u001b[0;32m      1\u001b[0m \u001b[1;31m# Example 3 - breaking (to illustrate when it breaks)\u001b[0m\u001b[1;33m\u001b[0m\u001b[1;33m\u001b[0m\u001b[1;33m\u001b[0m\u001b[0m\n\u001b[1;32m----> 2\u001b[1;33m \u001b[0mnp\u001b[0m\u001b[1;33m.\u001b[0m\u001b[0mreshape\u001b[0m\u001b[1;33m(\u001b[0m\u001b[0mlap_times\u001b[0m\u001b[1;33m,\u001b[0m \u001b[0mnewshape\u001b[0m\u001b[1;33m=\u001b[0m\u001b[1;33m(\u001b[0m\u001b[1;36m2\u001b[0m\u001b[1;33m,\u001b[0m\u001b[1;36m15\u001b[0m\u001b[1;33m)\u001b[0m\u001b[1;33m)\u001b[0m\u001b[1;33m\u001b[0m\u001b[1;33m\u001b[0m\u001b[0m\n\u001b[0m",
      "\u001b[1;32m<__array_function__ internals>\u001b[0m in \u001b[0;36mreshape\u001b[1;34m(*args, **kwargs)\u001b[0m\n",
      "\u001b[1;32mc:\\users\\patmakur\\.virtualenvs\\zero_to_pandas_jovianml-kpap4wlg\\lib\\site-packages\\numpy\\core\\fromnumeric.py\u001b[0m in \u001b[0;36mreshape\u001b[1;34m(a, newshape, order)\u001b[0m\n\u001b[0;32m    297\u001b[0m            [5, 6]])\n\u001b[0;32m    298\u001b[0m     \"\"\"\n\u001b[1;32m--> 299\u001b[1;33m     \u001b[1;32mreturn\u001b[0m \u001b[0m_wrapfunc\u001b[0m\u001b[1;33m(\u001b[0m\u001b[0ma\u001b[0m\u001b[1;33m,\u001b[0m \u001b[1;34m'reshape'\u001b[0m\u001b[1;33m,\u001b[0m \u001b[0mnewshape\u001b[0m\u001b[1;33m,\u001b[0m \u001b[0morder\u001b[0m\u001b[1;33m=\u001b[0m\u001b[0morder\u001b[0m\u001b[1;33m)\u001b[0m\u001b[1;33m\u001b[0m\u001b[1;33m\u001b[0m\u001b[0m\n\u001b[0m\u001b[0;32m    300\u001b[0m \u001b[1;33m\u001b[0m\u001b[0m\n\u001b[0;32m    301\u001b[0m \u001b[1;33m\u001b[0m\u001b[0m\n",
      "\u001b[1;32mc:\\users\\patmakur\\.virtualenvs\\zero_to_pandas_jovianml-kpap4wlg\\lib\\site-packages\\numpy\\core\\fromnumeric.py\u001b[0m in \u001b[0;36m_wrapfunc\u001b[1;34m(obj, method, *args, **kwds)\u001b[0m\n\u001b[0;32m     53\u001b[0m     \u001b[0mbound\u001b[0m \u001b[1;33m=\u001b[0m \u001b[0mgetattr\u001b[0m\u001b[1;33m(\u001b[0m\u001b[0mobj\u001b[0m\u001b[1;33m,\u001b[0m \u001b[0mmethod\u001b[0m\u001b[1;33m,\u001b[0m \u001b[1;32mNone\u001b[0m\u001b[1;33m)\u001b[0m\u001b[1;33m\u001b[0m\u001b[1;33m\u001b[0m\u001b[0m\n\u001b[0;32m     54\u001b[0m     \u001b[1;32mif\u001b[0m \u001b[0mbound\u001b[0m \u001b[1;32mis\u001b[0m \u001b[1;32mNone\u001b[0m\u001b[1;33m:\u001b[0m\u001b[1;33m\u001b[0m\u001b[1;33m\u001b[0m\u001b[0m\n\u001b[1;32m---> 55\u001b[1;33m         \u001b[1;32mreturn\u001b[0m \u001b[0m_wrapit\u001b[0m\u001b[1;33m(\u001b[0m\u001b[0mobj\u001b[0m\u001b[1;33m,\u001b[0m \u001b[0mmethod\u001b[0m\u001b[1;33m,\u001b[0m \u001b[1;33m*\u001b[0m\u001b[0margs\u001b[0m\u001b[1;33m,\u001b[0m \u001b[1;33m**\u001b[0m\u001b[0mkwds\u001b[0m\u001b[1;33m)\u001b[0m\u001b[1;33m\u001b[0m\u001b[1;33m\u001b[0m\u001b[0m\n\u001b[0m\u001b[0;32m     56\u001b[0m \u001b[1;33m\u001b[0m\u001b[0m\n\u001b[0;32m     57\u001b[0m     \u001b[1;32mtry\u001b[0m\u001b[1;33m:\u001b[0m\u001b[1;33m\u001b[0m\u001b[1;33m\u001b[0m\u001b[0m\n",
      "\u001b[1;32mc:\\users\\patmakur\\.virtualenvs\\zero_to_pandas_jovianml-kpap4wlg\\lib\\site-packages\\numpy\\core\\fromnumeric.py\u001b[0m in \u001b[0;36m_wrapit\u001b[1;34m(obj, method, *args, **kwds)\u001b[0m\n\u001b[0;32m     42\u001b[0m     \u001b[1;32mexcept\u001b[0m \u001b[0mAttributeError\u001b[0m\u001b[1;33m:\u001b[0m\u001b[1;33m\u001b[0m\u001b[1;33m\u001b[0m\u001b[0m\n\u001b[0;32m     43\u001b[0m         \u001b[0mwrap\u001b[0m \u001b[1;33m=\u001b[0m \u001b[1;32mNone\u001b[0m\u001b[1;33m\u001b[0m\u001b[1;33m\u001b[0m\u001b[0m\n\u001b[1;32m---> 44\u001b[1;33m     \u001b[0mresult\u001b[0m \u001b[1;33m=\u001b[0m \u001b[0mgetattr\u001b[0m\u001b[1;33m(\u001b[0m\u001b[0masarray\u001b[0m\u001b[1;33m(\u001b[0m\u001b[0mobj\u001b[0m\u001b[1;33m)\u001b[0m\u001b[1;33m,\u001b[0m \u001b[0mmethod\u001b[0m\u001b[1;33m)\u001b[0m\u001b[1;33m(\u001b[0m\u001b[1;33m*\u001b[0m\u001b[0margs\u001b[0m\u001b[1;33m,\u001b[0m \u001b[1;33m**\u001b[0m\u001b[0mkwds\u001b[0m\u001b[1;33m)\u001b[0m\u001b[1;33m\u001b[0m\u001b[1;33m\u001b[0m\u001b[0m\n\u001b[0m\u001b[0;32m     45\u001b[0m     \u001b[1;32mif\u001b[0m \u001b[0mwrap\u001b[0m\u001b[1;33m:\u001b[0m\u001b[1;33m\u001b[0m\u001b[1;33m\u001b[0m\u001b[0m\n\u001b[0;32m     46\u001b[0m         \u001b[1;32mif\u001b[0m \u001b[1;32mnot\u001b[0m \u001b[0misinstance\u001b[0m\u001b[1;33m(\u001b[0m\u001b[0mresult\u001b[0m\u001b[1;33m,\u001b[0m \u001b[0mmu\u001b[0m\u001b[1;33m.\u001b[0m\u001b[0mndarray\u001b[0m\u001b[1;33m)\u001b[0m\u001b[1;33m:\u001b[0m\u001b[1;33m\u001b[0m\u001b[1;33m\u001b[0m\u001b[0m\n",
      "\u001b[1;31mValueError\u001b[0m: cannot reshape array of size 15 into shape (2,15)"
     ]
    }
   ],
   "source": [
    "# Example 3 - breaking (to illustrate when it breaks)\n",
    "np.reshape(lap_times, newshape=(2,15))"
   ]
  },
  {
   "cell_type": "markdown",
   "metadata": {},
   "source": [
    "# Explanation about why reshape failed above\n",
    "\n",
    "Import note for numpy's reshape is that when we pass a new shape of (a,b) then it should be equal to that of multiplication of number of rows and number of columns from the original array i.e. (n_rows * n_columns) = newshape(a,b).\n",
    "\n",
    "For example let's say our original array is a (3,5) array i.e. 3 rows and 5 columns. The reshape operation always expects the newshape to be equal to that of 15 i.e. (a,b) => a*b = 15. If we pass something like (4,4) it fails. Because the total elements 4*4 = 16 which is not equal to 15 (original array elements).\n",
    "\n",
    "Notice that in the example 2 above, a (3,5) array is transformed into (15,). The number of elements in a (3,5) array is 15 and the number of elements in the output array is also 15. Other key takeaway here is that the dimension of array in second example is (15,). It means that the output array is 1-D not 2-D."
   ]
  },
  {
   "cell_type": "markdown",
   "metadata": {},
   "source": [
    "### Some closing comments about when to use this function.\n",
    "\n",
    "Numpy's reshape is a very handy and important function than you think of. In the two examples above we were able to create a 1-D array into a 2-D array and vice versa."
   ]
  },
  {
   "cell_type": "code",
   "execution_count": 58,
   "metadata": {},
   "outputs": [
    {
     "data": {
      "application/javascript": [
       "window.require && require([\"base/js/namespace\"],function(Jupyter){Jupyter.notebook.save_checkpoint()})"
      ],
      "text/plain": [
       "<IPython.core.display.Javascript object>"
      ]
     },
     "metadata": {},
     "output_type": "display_data"
    },
    {
     "name": "stdout",
     "output_type": "stream",
     "text": [
      "[jovian] Attempting to save notebook..\n",
      "[jovian] Uploading notebook..\n",
      "[jovian] Capturing environment..\n"
     ]
    },
    {
     "name": "stderr",
     "output_type": "stream",
     "text": [
      "[jovian] Error: Failed to read Anaconda environment using command: \"conda env export -n base --no-builds\"\n"
     ]
    },
    {
     "name": "stdout",
     "output_type": "stream",
     "text": [
      "[jovian] Committed successfully! https://jovian.ml/phani/numpy-assignment-2\n"
     ]
    },
    {
     "data": {
      "text/plain": [
       "'https://jovian.ml/phani/numpy-assignment-2'"
      ]
     },
     "execution_count": 58,
     "metadata": {},
     "output_type": "execute_result"
    }
   ],
   "source": [
    "jovian.commit()"
   ]
  },
  {
   "cell_type": "markdown",
   "metadata": {},
   "source": [
    "# Function 2 - np.where()\n",
    "\n",
    "If you have some experience in SQL, then Numpy's where is something similar to WHERE clause in SQL. Except it works a little different. \n",
    "\n",
    "Numpy's where works like this:\n",
    "- np.where(condition, if yes give this output, if no give this output)\n",
    "\n",
    "i.e. we pass a condition that determines our output and returns an output if our condition is met or true or returns the other output if the condition is not met or false.\n",
    "\n",
    "For example: np.where(x > 10, A, B) => here if x is greater than 10, then A is returned as our output, if false B is returned as our output.\n",
    "\n",
    "#### The examples below that I mention are on cricket analytics\n",
    "I am big fan of Cricket. I will take an example dataset containing number of runs scored by Sachin Tendulkar and Rahul Dravid in a match that India had played.\n",
    "\n",
    "***Note: I do not own this dataset. I have downloaded this resource from this link: https://drive.google.com/file/d/1lBEeQ9iycLmQX9LkA8gq2Tm1Utd9sKu8/view?usp=sharing***\n",
    "\n",
    "The dataset looks something like this:\n",
    "\n",
    "![Cricket Scores](https://raw.githubusercontent.com/py404/zerotopandas/master/numpy-array-operations/cricket_scores.png)\n",
    "\n",
    "### A .tsv file is similar to a CSV file but is delimited by a TAB instead of a COMMA (,) which is why the file extension is .tsv\n",
    "\n",
    "What the columns mean:\n",
    "- Sachin = number of runs scored by Sachin\n",
    "- Dravid = number of runs scored by Dravid\n",
    "- India  = total runs India had made in that match"
   ]
  },
  {
   "cell_type": "code",
   "execution_count": 177,
   "metadata": {},
   "outputs": [
    {
     "data": {
      "text/plain": [
       "(225, 4)"
      ]
     },
     "execution_count": 177,
     "metadata": {},
     "output_type": "execute_result"
    }
   ],
   "source": [
    "# Before we perform our numpy operations let us load our dataset in a numpy array\n",
    "data = np.loadtxt(\"https://raw.githubusercontent.com/py404/zerotopandas/master/numpy-array-operations/cricket_data.tsv\", skiprows=1)\n",
    "data.shape"
   ]
  },
  {
   "cell_type": "markdown",
   "metadata": {},
   "source": [
    "We have a total of 225 rows and 4 columns"
   ]
  },
  {
   "cell_type": "code",
   "execution_count": 41,
   "metadata": {},
   "outputs": [
    {
     "name": "stdout",
     "output_type": "stream",
     "text": [
      "(array([  0,   4,  22,  30,  37,  44,  47,  56,  57,  64,  68,  94, 115,\n",
      "       116, 134, 148, 159, 166, 175, 177, 181, 182, 204, 208, 210, 221],\n",
      "      dtype=int64),)\n",
      "(array([  5,  11,  21,  37,  60,  88, 205, 208], dtype=int64),)\n"
     ]
    }
   ],
   "source": [
    "# Example 1 - find number of centuries made by Sachin and Dravid\n",
    "\n",
    "# Sachin - column 1 (0, 1, 2)\n",
    "sachin_centuries = np.where(data[:, 1] >= 100)\n",
    "\n",
    "# Dravid - column 2 (0, 1, 2)\n",
    "dravid_centuries = np.where(data[:, 2] >= 100)\n",
    "\n",
    "print(sachin_centuries) # output returned is the index of elements where sachin's score was >= 100\n",
    "print(dravid_centuries) # output returned is the index of elements where dravid's score was >= 100"
   ]
  },
  {
   "cell_type": "markdown",
   "metadata": {},
   "source": [
    "Example 1 continuation:\n",
    "- Notice that the outputs above returned a Tuple with list of indexes where runs are 100 or more (i.e. a century)\n",
    "- To access the array we use output[0] since there is only one array inside the Tuple"
   ]
  },
  {
   "cell_type": "code",
   "execution_count": 29,
   "metadata": {},
   "outputs": [
    {
     "data": {
      "text/plain": [
       "array([  0,   4,  22,  30,  37,  44,  47,  56,  57,  64,  68,  94, 115,\n",
       "       116, 134, 148, 159, 166, 175, 177, 181, 182, 204, 208, 210, 221],\n",
       "      dtype=int64)"
      ]
     },
     "execution_count": 29,
     "metadata": {},
     "output_type": "execute_result"
    }
   ],
   "source": [
    "sachin_centuries[0]"
   ]
  },
  {
   "cell_type": "markdown",
   "metadata": {},
   "source": [
    "Example 1 continuation:\n",
    "- To find total centuries, we use"
   ]
  },
  {
   "cell_type": "code",
   "execution_count": 42,
   "metadata": {},
   "outputs": [
    {
     "name": "stdout",
     "output_type": "stream",
     "text": [
      "Total centuries by Sachin: 26 out of 225 matches.\n",
      "Total centuries by Dravid: 8 out of 225 matches.\n"
     ]
    }
   ],
   "source": [
    "print(f'Total centuries by Sachin: {sachin_centuries[0].shape[0]} out of {data.shape[0]} matches.')\n",
    "print(f'Total centuries by Dravid: {dravid_centuries[0].shape[0]} out of {data.shape[0]} matches.')"
   ]
  },
  {
   "cell_type": "markdown",
   "metadata": {},
   "source": [
    "### Example 1 - a little variation to the example above (returning custom valuse based on a condition"
   ]
  },
  {
   "cell_type": "code",
   "execution_count": 58,
   "metadata": {},
   "outputs": [
    {
     "data": {
      "text/plain": [
       "array([ True, False, False, False,  True, False, False, False, False,\n",
       "       False, False, False, False, False, False, False, False, False,\n",
       "       False, False, False, False,  True, False, False, False, False,\n",
       "       False, False, False,  True, False, False, False, False, False,\n",
       "       False,  True, False, False, False, False, False, False,  True,\n",
       "       False, False,  True, False, False, False, False, False, False,\n",
       "       False, False,  True,  True, False, False, False, False, False,\n",
       "       False,  True, False, False, False,  True, False, False, False,\n",
       "       False, False, False, False, False, False, False, False, False,\n",
       "       False, False, False, False, False, False, False, False, False,\n",
       "       False, False, False, False,  True, False, False, False, False,\n",
       "       False, False, False, False, False, False, False, False, False,\n",
       "       False, False, False, False, False, False, False,  True,  True,\n",
       "       False, False, False, False, False, False, False, False, False,\n",
       "       False, False, False, False, False, False, False, False,  True,\n",
       "       False, False, False, False, False, False, False, False, False,\n",
       "       False, False, False, False,  True, False, False, False, False,\n",
       "       False, False, False, False, False, False,  True, False, False,\n",
       "       False, False, False, False,  True, False, False, False, False,\n",
       "       False, False, False, False,  True, False,  True, False, False,\n",
       "       False,  True,  True, False, False, False, False, False, False,\n",
       "       False, False, False, False, False, False, False, False, False,\n",
       "       False, False, False, False, False, False,  True, False, False,\n",
       "       False,  True, False,  True, False, False, False, False, False,\n",
       "       False, False, False, False, False,  True, False, False, False])"
      ]
     },
     "execution_count": 58,
     "metadata": {},
     "output_type": "execute_result"
    }
   ],
   "source": [
    "# return True if condition is met otherwise False\n",
    "np.where(data[:,1] >= 100, True, False)"
   ]
  },
  {
   "cell_type": "markdown",
   "metadata": {},
   "source": [
    "### Explanation about example\n",
    "Using where function we were able to find out the number of centuries made by Sachin and Dravid with just a couple of lines of code (can be condensed into 1 line in fact). \n",
    "\n",
    "This is a simple use case to get output based on a simple \"YES\" or \"NO\" condition."
   ]
  },
  {
   "cell_type": "markdown",
   "metadata": {},
   "source": [
    "### Example 2 - combining multiple conditions"
   ]
  },
  {
   "cell_type": "code",
   "execution_count": 73,
   "metadata": {},
   "outputs": [
    {
     "name": "stdout",
     "output_type": "stream",
     "text": [
      "(array([ 37, 208], dtype=int64),)\n",
      "\n",
      "\n",
      "Sachin scored: 186.0, Dravid scored 153.0 and India's total is 345.0\n",
      "Sachin scored: 140.0, Dravid scored 104.0 and India's total is 301.0\n",
      "\n",
      "\n",
      "Or may be print if both have scored fifty runs in a single match:\n",
      "----------------------------------------------------------------------\n",
      "(array([  7,  72,  84, 143, 163, 164, 195, 200], dtype=int64),)\n"
     ]
    }
   ],
   "source": [
    "# Example 2 - find out if both sachin and dravid made centuries in a single match\n",
    "both_centuries = np.where((data[:,1] >= 100) & (data[:,2] >= 100))\n",
    "\n",
    "print(both_centuries) # returns indices where the condition met\n",
    "\n",
    "print('\\n')\n",
    "\n",
    "# print(f'Sachin scored: {data[37][1]}, Dravid scored {data[37][2]} and India\\'s total is {data[37][3]}')  # printing row using index 37\n",
    "# print(f'Sachin scored: {data[208][1]}, Dravid scored {data[208][2]} and India\\'s total is {data[208][3]}') # printing row using index 208\n",
    "\n",
    "for i in both_centuries[0]:\n",
    "    print(f'Sachin scored: {data[i][1]}, Dravid scored {data[i][2]} and India\\'s total is {data[i][3]}')\n",
    "\n",
    "print('\\n')\n",
    "print('Or may be print if both have scored fifty runs in a single match:')\n",
    "print('-'*70)\n",
    "\n",
    "fifties = np.where( ((data[:,1] >= 50) & (data[:,1] < 100)) & ((data[:,2] >= 50) & (data[:,2] < 100)))\n",
    "print(fifties)"
   ]
  },
  {
   "cell_type": "code",
   "execution_count": 72,
   "metadata": {},
   "outputs": [
    {
     "name": "stdout",
     "output_type": "stream",
     "text": [
      "Sachin scored: 86.0, Dravid scored 74.0 and India's total is 288.0\n",
      "Sachin scored: 99.0, Dravid scored 74.0 and India's total is 229.0\n",
      "Sachin scored: 50.0, Dravid scored 62.0 and India's total is 256.0\n",
      "Sachin scored: 93.0, Dravid scored 79.0 and India's total is 279.0\n",
      "Sachin scored: 60.0, Dravid scored 57.0 and India's total is 309.0\n",
      "Sachin scored: 68.0, Dravid scored 59.0 and India's total is 202.0\n",
      "Sachin scored: 62.0, Dravid scored 56.0 and India's total is 276.0\n",
      "Sachin scored: 99.0, Dravid scored 92.0 and India's total is 304.0\n"
     ]
    }
   ],
   "source": [
    "for i in fifties[0]:\n",
    "    print(f'Sachin scored: {data[i][1]}, Dravid scored {data[i][2]} and India\\'s total is {data[i][3]}')"
   ]
  },
  {
   "cell_type": "markdown",
   "metadata": {},
   "source": [
    "### Explanation about example\n",
    "In the example above observe that I have combined mulitple conditions in the where() function. \n",
    "\n",
    "The logic is executed in the steps below:\n",
    "- find data points where sachin scored > 50 and < 100\n",
    "- if that is true, then find dravid scored > 50 and < 100\n",
    "- if both statements are true above, then get the index of that row\n",
    "\n",
    "Notice how I wrapped the conditions around the brackets. Brackets are important if you pass multiple conditions to numpy's where function. I will explain why it is important below."
   ]
  },
  {
   "cell_type": "markdown",
   "metadata": {},
   "source": [
    "### Example 3 - breaking (to illustrate when it breaks)\n",
    "\n",
    "Below I will try to ignore the brackets and execute the condition inside where function."
   ]
  },
  {
   "cell_type": "code",
   "execution_count": 25,
   "metadata": {},
   "outputs": [
    {
     "ename": "TypeError",
     "evalue": "ufunc 'bitwise_and' not supported for the input types, and the inputs could not be safely coerced to any supported types according to the casting rule ''safe''",
     "output_type": "error",
     "traceback": [
      "\u001b[1;31m---------------------------------------------------------------------------\u001b[0m",
      "\u001b[1;31mTypeError\u001b[0m                                 Traceback (most recent call last)",
      "\u001b[1;32m<ipython-input-25-3ec517bd21b0>\u001b[0m in \u001b[0;36m<module>\u001b[1;34m\u001b[0m\n\u001b[1;32m----> 1\u001b[1;33m \u001b[0mnp\u001b[0m\u001b[1;33m.\u001b[0m\u001b[0mwhere\u001b[0m\u001b[1;33m(\u001b[0m\u001b[0mdata\u001b[0m\u001b[1;33m[\u001b[0m\u001b[1;33m:\u001b[0m\u001b[1;33m,\u001b[0m\u001b[1;36m1\u001b[0m\u001b[1;33m]\u001b[0m \u001b[1;33m>=\u001b[0m \u001b[1;36m100\u001b[0m \u001b[1;33m&\u001b[0m \u001b[0mdata\u001b[0m\u001b[1;33m[\u001b[0m\u001b[1;33m:\u001b[0m\u001b[1;33m,\u001b[0m\u001b[1;36m2\u001b[0m\u001b[1;33m]\u001b[0m \u001b[1;33m>=\u001b[0m \u001b[1;36m100\u001b[0m\u001b[1;33m)\u001b[0m\u001b[1;33m\u001b[0m\u001b[1;33m\u001b[0m\u001b[0m\n\u001b[0m",
      "\u001b[1;31mTypeError\u001b[0m: ufunc 'bitwise_and' not supported for the input types, and the inputs could not be safely coerced to any supported types according to the casting rule ''safe''"
     ]
    }
   ],
   "source": [
    "np.where(data[:,1] >= 100 & data[:,2] >= 100)"
   ]
  },
  {
   "cell_type": "markdown",
   "metadata": {},
   "source": [
    "Notice the error, \"TypeError: ufunc 'bitwise_and' not supported for the input types\". \n",
    "\n",
    "What it means is that while performing bitwise_and operations i.e. using \"&\" in numpy, the order of precedence is observed and is important.\n",
    "\n",
    "In our statement above, '&' has higher precendence than '>='. \n",
    "\n",
    "So numpy will assume that the arguments next to '&' are the condition sets, i.e. our condition:\n",
    "- data[:,1] >= 100 & data[:,2] >= 100 is equal to **data[:,1] >= (100 & data[:,2]) >= 100**\n",
    "\n",
    "A stackoverflow question here will explain you in simple terms: https://stackoverflow.com/questions/50656307/numpy-typeerror-ufunc-bitwise-and-not-supported-for-the-input-types-when-us\n",
    "\n",
    "Notice the difference? Numpy's where is trying to do a whole different operation that what we needed. \n",
    "\n",
    "In order to safely execute our condition set, we have to wrap multiple conditions inside brackets. That way the precendence is followed and right output is extracted.\n",
    "\n",
    "To fix that problem we do something like this:\n",
    "\n",
    "- np.where( (condition 1) & (condition 2) )\n",
    "\n",
    "Observe that two conditions are wrapped inside brackets between the bitwise AND operator."
   ]
  },
  {
   "cell_type": "markdown",
   "metadata": {},
   "source": [
    "### Some closing comments about when to use this function\n",
    "\n",
    "Numpy's where condition is really handy if you're performing a search operation based on specific set of conditions. \n",
    "\n",
    "You can combine many condition sets and pass to where function to extract your output. It is a very useful condition while doing some analytics."
   ]
  },
  {
   "cell_type": "code",
   "execution_count": 59,
   "metadata": {},
   "outputs": [
    {
     "data": {
      "application/javascript": [
       "window.require && require([\"base/js/namespace\"],function(Jupyter){Jupyter.notebook.save_checkpoint()})"
      ],
      "text/plain": [
       "<IPython.core.display.Javascript object>"
      ]
     },
     "metadata": {},
     "output_type": "display_data"
    },
    {
     "name": "stdout",
     "output_type": "stream",
     "text": [
      "[jovian] Attempting to save notebook..\n",
      "[jovian] Updating notebook \"phani/numpy-assignment-2\" on https://jovian.ml/\n",
      "[jovian] Uploading notebook..\n",
      "[jovian] Capturing environment..\n"
     ]
    },
    {
     "name": "stderr",
     "output_type": "stream",
     "text": [
      "[jovian] Error: Failed to read Anaconda environment using command: \"conda env export -n base --no-builds\"\n"
     ]
    },
    {
     "name": "stdout",
     "output_type": "stream",
     "text": [
      "[jovian] Committed successfully! https://jovian.ml/phani/numpy-assignment-2\n"
     ]
    },
    {
     "data": {
      "text/plain": [
       "'https://jovian.ml/phani/numpy-assignment-2'"
      ]
     },
     "execution_count": 59,
     "metadata": {},
     "output_type": "execute_result"
    }
   ],
   "source": [
    "jovian.commit()"
   ]
  },
  {
   "cell_type": "markdown",
   "metadata": {},
   "source": [
    "# Function 3 - np.stack()\n",
    "Numpy's stack function is used to combine multiple arrays and get an output array.\n",
    "\n",
    "Now this might be similar to concatenate, except stack can come handy with the axis parameter operations. Let us see how it works and is different from np.concatenate()"
   ]
  },
  {
   "cell_type": "markdown",
   "metadata": {},
   "source": [
    "### Example 1 - working (basic example)"
   ]
  },
  {
   "cell_type": "code",
   "execution_count": 36,
   "metadata": {},
   "outputs": [
    {
     "name": "stdout",
     "output_type": "stream",
     "text": [
      "[[1 4 5]\n",
      " [2 9 6]]\n",
      "\n",
      "\n",
      "Output array dimension: 2\n",
      "\n",
      "\n"
     ]
    }
   ],
   "source": [
    "arr1 = [1,4,5]\n",
    "arr2 = [2,9,6]\n",
    "\n",
    "# default stacking is by horizontal axis\n",
    "output = np.stack((arr1, arr2))\n",
    "print(output)\n",
    "print('\\n')\n",
    "print(f'Output array dimension: {output.ndim}')\n",
    "print('\\n')"
   ]
  },
  {
   "cell_type": "markdown",
   "metadata": {},
   "source": [
    "### Explanation about example\n",
    "Numpy's stack is a array manipulation function. The documentation says that it joins a sequence of arrays along a new axis. \n",
    "\n",
    "In the example above, a simple joining is performed along the horizontal axis, i.e. arr1 is stacked on top of arr2."
   ]
  },
  {
   "cell_type": "markdown",
   "metadata": {},
   "source": [
    "### Example 2 - (using axis parameter)\n",
    "Joining multidimensional arrays and using axis parameter."
   ]
  },
  {
   "cell_type": "code",
   "execution_count": 66,
   "metadata": {},
   "outputs": [
    {
     "name": "stdout",
     "output_type": "stream",
     "text": [
      "arr1 dimension: 2\n",
      "arr2 dimension: 2\n",
      "\n",
      "\n",
      "Stacked output array looks like: \n",
      "[[[1 4 5]\n",
      "  [7 3 2]]\n",
      "\n",
      " [[2 9 6]\n",
      "  [0 5 7]]]\n",
      "\n",
      "\n",
      "Dimension of output array is: 3\n"
     ]
    }
   ],
   "source": [
    "arr1 = np.array([\n",
    "    [1,4,5],\n",
    "    [7,3,2]\n",
    "])\n",
    "print(f'arr1 dimension: {arr1.ndim}')\n",
    "\n",
    "arr2 = np.array([\n",
    "    [2,9,6],\n",
    "    [0,5,7]\n",
    "])\n",
    "print(f'arr2 dimension: {arr2.ndim}')\n",
    "\n",
    "print('\\n')\n",
    "\n",
    "output = np.stack((arr1, arr2), axis=0)\n",
    "\n",
    "print(f'Stacked output array looks like: \\n{output}')\n",
    "print('\\n')\n",
    "\n",
    "print(f'Dimension of output array is: {output.ndim}')"
   ]
  },
  {
   "cell_type": "markdown",
   "metadata": {},
   "source": [
    "### Explanation\n",
    "In the example above, using the axis parameter we are telling numpy's stack function that the first array is stacked on top of the second array along the first dimension."
   ]
  },
  {
   "cell_type": "markdown",
   "metadata": {},
   "source": [
    "### Example 2 - continuation (using axis parameter)"
   ]
  },
  {
   "cell_type": "code",
   "execution_count": 68,
   "metadata": {},
   "outputs": [
    {
     "name": "stdout",
     "output_type": "stream",
     "text": [
      "arr1 dimension: 2\n",
      "arr2 dimension: 2\n",
      "\n",
      "\n",
      "Stacked output array using 1 as axis looks like: \n",
      "[[[1 4 5]\n",
      "  [2 9 6]]\n",
      "\n",
      " [[7 3 2]\n",
      "  [0 5 7]]]\n",
      "\n",
      "\n",
      "Dimension of output array is: 3\n"
     ]
    }
   ],
   "source": [
    "arr1 = np.array([\n",
    "    [1,4,5],\n",
    "    [7,3,2]\n",
    "])\n",
    "print(f'arr1 dimension: {arr1.ndim}')\n",
    "\n",
    "arr2 = np.array([\n",
    "    [2,9,6],\n",
    "    [0,5,7]\n",
    "])\n",
    "print(f'arr2 dimension: {arr2.ndim}')\n",
    "\n",
    "print('\\n')\n",
    "\n",
    "output = np.stack((arr1, arr2), axis=1)\n",
    "\n",
    "print(f'Stacked output array using 1 as axis looks like: \\n{output}')\n",
    "print('\\n')\n",
    "\n",
    "print(f'Dimension of output array is: {output.ndim}')"
   ]
  },
  {
   "cell_type": "markdown",
   "metadata": {},
   "source": [
    "### Explanation\n",
    "In the example above, using the axis parameter 1 we are telling numpy's stack function that the first array is stacked on top of the second array along the last dimension.\n",
    "\n",
    "i.e. notice the output above, we have stacked first row of first array on top of first row of second array, then the second row of first array is stacked on top of second row of second array.\n",
    "\n",
    "That is the difference between axis=0 and axis=1"
   ]
  },
  {
   "cell_type": "markdown",
   "metadata": {},
   "source": [
    "### Example 3 - breaking (to illustrate when it breaks)"
   ]
  },
  {
   "cell_type": "code",
   "execution_count": 75,
   "metadata": {},
   "outputs": [
    {
     "name": "stdout",
     "output_type": "stream",
     "text": [
      "[1 2 3]\n",
      "\n",
      "\n",
      "[[1 2 3]\n",
      " [4 5 6]]\n",
      "\n",
      "\n"
     ]
    },
    {
     "ename": "ValueError",
     "evalue": "all input arrays must have the same shape",
     "output_type": "error",
     "traceback": [
      "\u001b[1;31m---------------------------------------------------------------------------\u001b[0m",
      "\u001b[1;31mValueError\u001b[0m                                Traceback (most recent call last)",
      "\u001b[1;32m<ipython-input-75-1c8a660fb694>\u001b[0m in \u001b[0;36m<module>\u001b[1;34m\u001b[0m\n\u001b[0;32m     10\u001b[0m \u001b[0mprint\u001b[0m\u001b[1;33m(\u001b[0m\u001b[1;34m'\\n'\u001b[0m\u001b[1;33m)\u001b[0m\u001b[1;33m\u001b[0m\u001b[1;33m\u001b[0m\u001b[0m\n\u001b[0;32m     11\u001b[0m \u001b[1;33m\u001b[0m\u001b[0m\n\u001b[1;32m---> 12\u001b[1;33m \u001b[0moutput\u001b[0m \u001b[1;33m=\u001b[0m \u001b[0mnp\u001b[0m\u001b[1;33m.\u001b[0m\u001b[0mstack\u001b[0m\u001b[1;33m(\u001b[0m\u001b[1;33m(\u001b[0m\u001b[0marr1\u001b[0m\u001b[1;33m,\u001b[0m \u001b[0marr2\u001b[0m\u001b[1;33m)\u001b[0m\u001b[1;33m)\u001b[0m\u001b[1;33m\u001b[0m\u001b[1;33m\u001b[0m\u001b[0m\n\u001b[0m",
      "\u001b[1;32m<__array_function__ internals>\u001b[0m in \u001b[0;36mstack\u001b[1;34m(*args, **kwargs)\u001b[0m\n",
      "\u001b[1;32mc:\\users\\patmakur\\.virtualenvs\\zero_to_pandas_jovianml-kpap4wlg\\lib\\site-packages\\numpy\\core\\shape_base.py\u001b[0m in \u001b[0;36mstack\u001b[1;34m(arrays, axis, out)\u001b[0m\n\u001b[0;32m    425\u001b[0m     \u001b[0mshapes\u001b[0m \u001b[1;33m=\u001b[0m \u001b[1;33m{\u001b[0m\u001b[0marr\u001b[0m\u001b[1;33m.\u001b[0m\u001b[0mshape\u001b[0m \u001b[1;32mfor\u001b[0m \u001b[0marr\u001b[0m \u001b[1;32min\u001b[0m \u001b[0marrays\u001b[0m\u001b[1;33m}\u001b[0m\u001b[1;33m\u001b[0m\u001b[1;33m\u001b[0m\u001b[0m\n\u001b[0;32m    426\u001b[0m     \u001b[1;32mif\u001b[0m \u001b[0mlen\u001b[0m\u001b[1;33m(\u001b[0m\u001b[0mshapes\u001b[0m\u001b[1;33m)\u001b[0m \u001b[1;33m!=\u001b[0m \u001b[1;36m1\u001b[0m\u001b[1;33m:\u001b[0m\u001b[1;33m\u001b[0m\u001b[1;33m\u001b[0m\u001b[0m\n\u001b[1;32m--> 427\u001b[1;33m         \u001b[1;32mraise\u001b[0m \u001b[0mValueError\u001b[0m\u001b[1;33m(\u001b[0m\u001b[1;34m'all input arrays must have the same shape'\u001b[0m\u001b[1;33m)\u001b[0m\u001b[1;33m\u001b[0m\u001b[1;33m\u001b[0m\u001b[0m\n\u001b[0m\u001b[0;32m    428\u001b[0m \u001b[1;33m\u001b[0m\u001b[0m\n\u001b[0;32m    429\u001b[0m     \u001b[0mresult_ndim\u001b[0m \u001b[1;33m=\u001b[0m \u001b[0marrays\u001b[0m\u001b[1;33m[\u001b[0m\u001b[1;36m0\u001b[0m\u001b[1;33m]\u001b[0m\u001b[1;33m.\u001b[0m\u001b[0mndim\u001b[0m \u001b[1;33m+\u001b[0m \u001b[1;36m1\u001b[0m\u001b[1;33m\u001b[0m\u001b[1;33m\u001b[0m\u001b[0m\n",
      "\u001b[1;31mValueError\u001b[0m: all input arrays must have the same shape"
     ]
    }
   ],
   "source": [
    "arr1 = np.array([1,2,3])\n",
    "print(arr1)\n",
    "print('\\n')\n",
    "\n",
    "arr2 = np.array([\n",
    "    [1,2,3],\n",
    "    [4,5,6]\n",
    "])\n",
    "print(arr2)\n",
    "print('\\n')\n",
    "\n",
    "output = np.stack((arr1, arr2))"
   ]
  },
  {
   "cell_type": "markdown",
   "metadata": {},
   "source": [
    "Notice the error. It says that the arrays must have same shape. Numpy's stack function performs by looking at the shape of the array. \n",
    "\n",
    "It means that when performing stack function, we have to always pass arrays that are of same shape."
   ]
  },
  {
   "cell_type": "markdown",
   "metadata": {},
   "source": [
    "To fix this we have to something like below:"
   ]
  },
  {
   "cell_type": "code",
   "execution_count": 79,
   "metadata": {},
   "outputs": [
    {
     "name": "stdout",
     "output_type": "stream",
     "text": [
      "arr1 dimension: 2\n",
      "arr2 dimension: 2\n"
     ]
    }
   ],
   "source": [
    "arr1 = np.array([\n",
    "    [9,8,7],\n",
    "    [6,5,4]\n",
    "])\n",
    "print(f'arr1 dimension: {arr1.ndim}')\n",
    "\n",
    "arr2 = np.array([\n",
    "    [1,2,3],\n",
    "    [4,5,6]\n",
    "])\n",
    "print(f'arr2 dimension: {arr2.ndim}')"
   ]
  },
  {
   "cell_type": "markdown",
   "metadata": {},
   "source": [
    "### Some closing comments about when to use this function.\n",
    "\n",
    "Numpy's stack function is a extensively used in the image processing field. If you have knowledge about pixels, image, or RGB in general then this article will enlight you about the image processing field. \n",
    "\n",
    "Link: http://www.degeneratestate.org/posts/2016/Oct/23/image-processing-with-numpy/"
   ]
  },
  {
   "cell_type": "code",
   "execution_count": 80,
   "metadata": {},
   "outputs": [
    {
     "data": {
      "application/javascript": [
       "window.require && require([\"base/js/namespace\"],function(Jupyter){Jupyter.notebook.save_checkpoint()})"
      ],
      "text/plain": [
       "<IPython.core.display.Javascript object>"
      ]
     },
     "metadata": {},
     "output_type": "display_data"
    },
    {
     "name": "stdout",
     "output_type": "stream",
     "text": [
      "[jovian] Attempting to save notebook..\n",
      "[jovian] Updating notebook \"phani/numpy-assignment-2\" on https://jovian.ml/\n",
      "[jovian] Uploading notebook..\n",
      "[jovian] Capturing environment..\n"
     ]
    },
    {
     "name": "stderr",
     "output_type": "stream",
     "text": [
      "[jovian] Error: Failed to read Anaconda environment using command: \"conda env export -n base --no-builds\"\n"
     ]
    },
    {
     "name": "stdout",
     "output_type": "stream",
     "text": [
      "[jovian] Committed successfully! https://jovian.ml/phani/numpy-assignment-2\n"
     ]
    },
    {
     "data": {
      "text/plain": [
       "'https://jovian.ml/phani/numpy-assignment-2'"
      ]
     },
     "execution_count": 80,
     "metadata": {},
     "output_type": "execute_result"
    }
   ],
   "source": [
    "jovian.commit()"
   ]
  },
  {
   "cell_type": "markdown",
   "metadata": {},
   "source": [
    "# Function 4 - numpy.argmax\n",
    "Numpy's argmax function returns the indices of the maximum values along an axis. \n",
    "\n",
    "I will try to demonstrate the use of argmax using the cricket dataset that I have used in the second fuction (np.where()) and it's examples."
   ]
  },
  {
   "cell_type": "markdown",
   "metadata": {},
   "source": [
    "### Example 1 - working\n",
    "\n",
    "Let us say we would like to find the position of maximum runs score by Sachin or Dravid."
   ]
  },
  {
   "cell_type": "code",
   "execution_count": 176,
   "metadata": {},
   "outputs": [
    {
     "name": "stdout",
     "output_type": "stream",
     "text": [
      "Printing first 5 rows of the dataset: \n",
      " [[  0. 100.  78. 342.]\n",
      " [  1.  11.  62. 191.]\n",
      " [  2.   8.  85. 252.]\n",
      " [  3.  71.  24. 307.]]\n",
      "\n",
      "\n",
      "Dimension of data: 2\n",
      "\n",
      "\n",
      "Max position: 37\n",
      "Max position row: [ 37. 186. 153. 345.] and Sachin scored: 186.0 runs.\n"
     ]
    }
   ],
   "source": [
    "data = np.loadtxt(\"https://raw.githubusercontent.com/py404/zerotopandas/master/numpy-array-operations/cricket_data.tsv\", skiprows=1)\n",
    "print(f'Printing first 5 rows of the dataset: \\n {data[:4,:]}')\n",
    "print('\\n')\n",
    "print(f'Dimension of data: {data.ndim}')\n",
    "print('\\n')\n",
    "\n",
    "max_position = np.argmax(data[:, 1], axis=0) # column 1 is sachin's scores\n",
    "print(f'Max position: {max_position}')\n",
    "print(f'Max position row: {data[max_position]} and Sachin scored: {data[max_position, 1]} runs.')"
   ]
  },
  {
   "cell_type": "markdown",
   "metadata": {},
   "source": [
    "### Explanation about example\n",
    "In the example above I have extracted the index of the row where Sachin scored the maximum runs out of all the matches in our dataset. \n",
    "\n",
    "Similarly for Dravid:"
   ]
  },
  {
   "cell_type": "code",
   "execution_count": 113,
   "metadata": {},
   "outputs": [
    {
     "name": "stdout",
     "output_type": "stream",
     "text": [
      "Max position: 37\n",
      "Max position row: [ 37. 186. 153. 345.] and Dravid scored: 153.0 runs.\n"
     ]
    }
   ],
   "source": [
    "max_position = np.argmax(data[:, 2], axis=0) # column 2 is dravid's scores\n",
    "print(f'Max position: {max_position}')\n",
    "print(f'Max position row: {data[max_position]} and Dravid scored: {data[max_position, 2]} runs.')"
   ]
  },
  {
   "cell_type": "code",
   "execution_count": 114,
   "metadata": {},
   "outputs": [
    {
     "name": "stdout",
     "output_type": "stream",
     "text": [
      "Max position: 71\n",
      "Max position row: [ 71.  57.   7. 499.] and India scored: 499.0 runs.\n"
     ]
    }
   ],
   "source": [
    "max_position = np.argmax(data[:, 3], axis=0) # column 3 is India's scores\n",
    "print(f'Max position: {max_position}')\n",
    "print(f'Max position row: {data[max_position]} and India scored: {data[max_position, 3]} runs.')"
   ]
  },
  {
   "cell_type": "markdown",
   "metadata": {},
   "source": [
    "An interesting finding is that both Sachin and Dravid's scores were highest in a single match that India had played."
   ]
  },
  {
   "cell_type": "markdown",
   "metadata": {},
   "source": [
    "### Example 2 - finding out the indices of all maximum values of Sachin, Dravid and India in one go."
   ]
  },
  {
   "cell_type": "code",
   "execution_count": 118,
   "metadata": {},
   "outputs": [
    {
     "name": "stdout",
     "output_type": "stream",
     "text": [
      "[37 37 71]\n"
     ]
    }
   ],
   "source": [
    "max_position = np.argmax(data[:, 1:], axis=0)\n",
    "print(max_position)"
   ]
  },
  {
   "cell_type": "markdown",
   "metadata": {},
   "source": [
    "### Explanation about example\n",
    "Notice the above example that instead of passing a single column, I have passed down all the columns starting from 1 (excluding 0, below column 0 is just index of row).\n",
    "\n",
    "The output is [37, 37, 71] which is exactly what we got above. \n",
    "\n",
    "Sachin's maximum score was at the row 37, Dravid's maximum score was at row 37 and India's maximum score was at row 71. "
   ]
  },
  {
   "cell_type": "markdown",
   "metadata": {},
   "source": [
    "### Example 3 - breaking (to illustrate when it breaks)"
   ]
  },
  {
   "cell_type": "code",
   "execution_count": 146,
   "metadata": {},
   "outputs": [
    {
     "ename": "AxisError",
     "evalue": "axis 2 is out of bounds for array of dimension 2",
     "output_type": "error",
     "traceback": [
      "\u001b[1;31m---------------------------------------------------------------------------\u001b[0m",
      "\u001b[1;31mAxisError\u001b[0m                                 Traceback (most recent call last)",
      "\u001b[1;32m<ipython-input-146-f86ba95a9791>\u001b[0m in \u001b[0;36m<module>\u001b[1;34m\u001b[0m\n\u001b[1;32m----> 1\u001b[1;33m \u001b[0mnp\u001b[0m\u001b[1;33m.\u001b[0m\u001b[0margmax\u001b[0m\u001b[1;33m(\u001b[0m\u001b[0mdata\u001b[0m\u001b[1;33m,\u001b[0m \u001b[0maxis\u001b[0m\u001b[1;33m=\u001b[0m\u001b[1;36m2\u001b[0m\u001b[1;33m)\u001b[0m\u001b[1;33m\u001b[0m\u001b[1;33m\u001b[0m\u001b[0m\n\u001b[0m",
      "\u001b[1;32m<__array_function__ internals>\u001b[0m in \u001b[0;36margmax\u001b[1;34m(*args, **kwargs)\u001b[0m\n",
      "\u001b[1;32mc:\\users\\patmakur\\.virtualenvs\\zero_to_pandas_jovianml-kpap4wlg\\lib\\site-packages\\numpy\\core\\fromnumeric.py\u001b[0m in \u001b[0;36margmax\u001b[1;34m(a, axis, out)\u001b[0m\n\u001b[0;32m   1186\u001b[0m \u001b[1;33m\u001b[0m\u001b[0m\n\u001b[0;32m   1187\u001b[0m     \"\"\"\n\u001b[1;32m-> 1188\u001b[1;33m     \u001b[1;32mreturn\u001b[0m \u001b[0m_wrapfunc\u001b[0m\u001b[1;33m(\u001b[0m\u001b[0ma\u001b[0m\u001b[1;33m,\u001b[0m \u001b[1;34m'argmax'\u001b[0m\u001b[1;33m,\u001b[0m \u001b[0maxis\u001b[0m\u001b[1;33m=\u001b[0m\u001b[0maxis\u001b[0m\u001b[1;33m,\u001b[0m \u001b[0mout\u001b[0m\u001b[1;33m=\u001b[0m\u001b[0mout\u001b[0m\u001b[1;33m)\u001b[0m\u001b[1;33m\u001b[0m\u001b[1;33m\u001b[0m\u001b[0m\n\u001b[0m\u001b[0;32m   1189\u001b[0m \u001b[1;33m\u001b[0m\u001b[0m\n\u001b[0;32m   1190\u001b[0m \u001b[1;33m\u001b[0m\u001b[0m\n",
      "\u001b[1;32mc:\\users\\patmakur\\.virtualenvs\\zero_to_pandas_jovianml-kpap4wlg\\lib\\site-packages\\numpy\\core\\fromnumeric.py\u001b[0m in \u001b[0;36m_wrapfunc\u001b[1;34m(obj, method, *args, **kwds)\u001b[0m\n\u001b[0;32m     56\u001b[0m \u001b[1;33m\u001b[0m\u001b[0m\n\u001b[0;32m     57\u001b[0m     \u001b[1;32mtry\u001b[0m\u001b[1;33m:\u001b[0m\u001b[1;33m\u001b[0m\u001b[1;33m\u001b[0m\u001b[0m\n\u001b[1;32m---> 58\u001b[1;33m         \u001b[1;32mreturn\u001b[0m \u001b[0mbound\u001b[0m\u001b[1;33m(\u001b[0m\u001b[1;33m*\u001b[0m\u001b[0margs\u001b[0m\u001b[1;33m,\u001b[0m \u001b[1;33m**\u001b[0m\u001b[0mkwds\u001b[0m\u001b[1;33m)\u001b[0m\u001b[1;33m\u001b[0m\u001b[1;33m\u001b[0m\u001b[0m\n\u001b[0m\u001b[0;32m     59\u001b[0m     \u001b[1;32mexcept\u001b[0m \u001b[0mTypeError\u001b[0m\u001b[1;33m:\u001b[0m\u001b[1;33m\u001b[0m\u001b[1;33m\u001b[0m\u001b[0m\n\u001b[0;32m     60\u001b[0m         \u001b[1;31m# A TypeError occurs if the object does have such a method in its\u001b[0m\u001b[1;33m\u001b[0m\u001b[1;33m\u001b[0m\u001b[1;33m\u001b[0m\u001b[0m\n",
      "\u001b[1;31mAxisError\u001b[0m: axis 2 is out of bounds for array of dimension 2"
     ]
    }
   ],
   "source": [
    "np.argmax(data, axis=2)"
   ]
  },
  {
   "cell_type": "markdown",
   "metadata": {},
   "source": [
    "### Explanation about example (why it breaks and how to fix it)\n",
    "In the above example argmax function breaks if we pass an axis that doesn't exist i.e. for our cricket dataset we only have two axes, horizontal=0, vertical=1.\n",
    "\n",
    "While performing argmax please make sure that you are using correct array indexing and using right axis for your desired output."
   ]
  },
  {
   "cell_type": "markdown",
   "metadata": {},
   "source": [
    "### Some closing comments about when to use this function.\n",
    "\n",
    "Numpy's argmax is a very useful function and is extensively used in a lot of use cases. Be it finding out maximum values of stocks, maxiumum temperatures recorded in a year dataset, maximum runs scored by a team in a tournament etc."
   ]
  },
  {
   "cell_type": "code",
   "execution_count": 147,
   "metadata": {},
   "outputs": [
    {
     "data": {
      "application/javascript": [
       "window.require && require([\"base/js/namespace\"],function(Jupyter){Jupyter.notebook.save_checkpoint()})"
      ],
      "text/plain": [
       "<IPython.core.display.Javascript object>"
      ]
     },
     "metadata": {},
     "output_type": "display_data"
    },
    {
     "name": "stdout",
     "output_type": "stream",
     "text": [
      "[jovian] Attempting to save notebook..\n",
      "[jovian] Updating notebook \"phani/numpy-assignment-2\" on https://jovian.ml/\n",
      "[jovian] Uploading notebook..\n",
      "[jovian] Capturing environment..\n"
     ]
    },
    {
     "name": "stderr",
     "output_type": "stream",
     "text": [
      "[jovian] Error: Failed to read Anaconda environment using command: \"conda env export -n base --no-builds\"\n"
     ]
    },
    {
     "name": "stdout",
     "output_type": "stream",
     "text": [
      "[jovian] Committed successfully! https://jovian.ml/phani/numpy-assignment-2\n"
     ]
    },
    {
     "data": {
      "text/plain": [
       "'https://jovian.ml/phani/numpy-assignment-2'"
      ]
     },
     "execution_count": 147,
     "metadata": {},
     "output_type": "execute_result"
    }
   ],
   "source": [
    "jovian.commit()"
   ]
  },
  {
   "cell_type": "markdown",
   "metadata": {},
   "source": [
    "# Function 5 - np.cumsum() - cumulative sum \n",
    "\n",
    "Numpy's cumsum() function calculates the cumulative sum of the values in the array and produces a new output array.\n",
    "\n",
    "The difference between sum() and cumsum() is as follows:\n",
    "- suppose you have an array [1,4,3,5,7,9] the sum() function gives an output of 1+4+3+5+7+9 = 29\n",
    "- but a cumsum() function calculates the same array differently and gives an output => [1, 5, 8, 13, 20, 29]\n",
    "\n",
    "Did you get the difference? \n",
    "\n",
    "Both sum() and cumsum() gives the final sum of the array elements, but cumsum() would be doing the \"running total\" of the array.\n",
    "\n",
    "For example, suppose that you are counting the savings you have been doing every week for about a month.\n",
    "- first week you saved 100 rupees, second week 150 rupees, third week 150 rupees, fourth week 200 rupees\n",
    "- cumsum() gives the running total \n",
    "- i.e. first = 100\n",
    "- second = first + 150 = 100 + 150 = 250\n",
    "- third = second + 150 = 250 + 150 = 400\n",
    "- fourth = third + 200 = 400 + 200 = 600"
   ]
  },
  {
   "cell_type": "markdown",
   "metadata": {},
   "source": [
    "### Example 1 - working\n",
    "Suppose we have been saving money for 8 weeks and the cumsum() or running total will be"
   ]
  },
  {
   "cell_type": "code",
   "execution_count": 150,
   "metadata": {},
   "outputs": [
    {
     "data": {
      "text/plain": [
       "array([ 100,  250,  400,  600,  725,  825,  900, 1030], dtype=int32)"
      ]
     },
     "execution_count": 150,
     "metadata": {},
     "output_type": "execute_result"
    }
   ],
   "source": [
    "savings = np.array([100, 150, 150, 200, 125, 100, 75, 130])\n",
    "np.cumsum(savings)"
   ]
  },
  {
   "cell_type": "markdown",
   "metadata": {},
   "source": [
    "### Explanation about example\n",
    "Notice the output above, the cumsum() function calculated running total like this:\n",
    "- 100\n",
    "- 250 (100 + 150)\n",
    "- 400 (100 + 150 + 250)\n",
    "- 600 (100 + 150 + 250 + 200)\n",
    "- 725 (100 + 150 + 250 + 200 + 125)\n",
    "- 825 (100 + 150 + 250 + 200 + 125 + 100)\n",
    "- 900 (100 + 150 + 250 + 200 + 125 + 100 + 75)\n",
    "- 1030 (100 + 150 + 250 + 200 + 125 + 100 + 75 + 130)\n",
    "\n",
    "After 8 weeks our savings is 1030 rupees."
   ]
  },
  {
   "cell_type": "markdown",
   "metadata": {},
   "source": [
    "### Example 2 - cumsum() with 2 dimensional array"
   ]
  },
  {
   "cell_type": "code",
   "execution_count": 152,
   "metadata": {},
   "outputs": [
    {
     "data": {
      "text/plain": [
       "array([ 1,  6,  9, 15, 19, 28], dtype=int32)"
      ]
     },
     "execution_count": 152,
     "metadata": {},
     "output_type": "execute_result"
    }
   ],
   "source": [
    "arr = np.array([\n",
    "    [1,5,3],\n",
    "    [6,4,9]\n",
    "])\n",
    "\n",
    "np.cumsum(arr)"
   ]
  },
  {
   "cell_type": "markdown",
   "metadata": {},
   "source": [
    "### Explanation about example\n",
    "Notice that even with a 2-D array cumsum() function has given a 1-D output array. \n",
    "\n",
    "At the moment it is doing a rowwise operation i.e. 1 + 5 + 3 + 6 + 4 + 9 => 1, 6, 9, 15, 19, 28"
   ]
  },
  {
   "cell_type": "markdown",
   "metadata": {},
   "source": [
    "### Example 2 - continuation - doing cumsum() using axis parameter "
   ]
  },
  {
   "cell_type": "code",
   "execution_count": 155,
   "metadata": {},
   "outputs": [
    {
     "data": {
      "text/plain": [
       "array([[ 1,  6,  9],\n",
       "       [ 6, 10, 19]], dtype=int32)"
      ]
     },
     "execution_count": 155,
     "metadata": {},
     "output_type": "execute_result"
    }
   ],
   "source": [
    "arr = np.array([\n",
    "    [1,5,3],\n",
    "    [6,4,9]\n",
    "])\n",
    "\n",
    "np.cumsum(arr, axis=1)"
   ]
  },
  {
   "cell_type": "markdown",
   "metadata": {},
   "source": [
    "Notice the output above, we no longer receive a 1-D array output. In the example above cumsum() function is doing the cumulative sum in the first element inside the array and then the second element inside the array.\n",
    "\n",
    "i.e. it first calculates cumulative sum of [1,5,3] => [1, 6 (1+5), 9 (6+3)], then the next [6, 4, 9] => [6, 10 (6+4), 19 (10+9)]"
   ]
  },
  {
   "cell_type": "markdown",
   "metadata": {},
   "source": [
    "### Example 3 - breaking (to illustrate when it breaks)"
   ]
  },
  {
   "cell_type": "code",
   "execution_count": 172,
   "metadata": {},
   "outputs": [
    {
     "data": {
      "text/plain": [
       "array([[ 1,  6,  9],\n",
       "       [ 6, 10, 19]], dtype=int32)"
      ]
     },
     "execution_count": 172,
     "metadata": {},
     "output_type": "execute_result"
    }
   ],
   "source": [
    "arr = np.array([\n",
    "    [1,5,3],\n",
    "    [6,4,9]\n",
    "])\n",
    "\n",
    "np.cumsum(arr, axis=1)"
   ]
  },
  {
   "cell_type": "code",
   "execution_count": 173,
   "metadata": {},
   "outputs": [
    {
     "ename": "AxisError",
     "evalue": "axis 1 is out of bounds for array of dimension 1",
     "output_type": "error",
     "traceback": [
      "\u001b[1;31m---------------------------------------------------------------------------\u001b[0m",
      "\u001b[1;31mAxisError\u001b[0m                                 Traceback (most recent call last)",
      "\u001b[1;32m<ipython-input-173-aaca873fb3e3>\u001b[0m in \u001b[0;36m<module>\u001b[1;34m\u001b[0m\n\u001b[0;32m      4\u001b[0m ], dtype=object)\n\u001b[0;32m      5\u001b[0m \u001b[1;33m\u001b[0m\u001b[0m\n\u001b[1;32m----> 6\u001b[1;33m \u001b[0mnp\u001b[0m\u001b[1;33m.\u001b[0m\u001b[0mcumsum\u001b[0m\u001b[1;33m(\u001b[0m\u001b[0marr\u001b[0m\u001b[1;33m,\u001b[0m \u001b[0maxis\u001b[0m\u001b[1;33m=\u001b[0m\u001b[1;36m1\u001b[0m\u001b[1;33m)\u001b[0m\u001b[1;33m\u001b[0m\u001b[1;33m\u001b[0m\u001b[0m\n\u001b[0m",
      "\u001b[1;32m<__array_function__ internals>\u001b[0m in \u001b[0;36mcumsum\u001b[1;34m(*args, **kwargs)\u001b[0m\n",
      "\u001b[1;32mc:\\users\\patmakur\\.virtualenvs\\zero_to_pandas_jovianml-kpap4wlg\\lib\\site-packages\\numpy\\core\\fromnumeric.py\u001b[0m in \u001b[0;36mcumsum\u001b[1;34m(a, axis, dtype, out)\u001b[0m\n\u001b[0;32m   2481\u001b[0m \u001b[1;33m\u001b[0m\u001b[0m\n\u001b[0;32m   2482\u001b[0m     \"\"\"\n\u001b[1;32m-> 2483\u001b[1;33m     \u001b[1;32mreturn\u001b[0m \u001b[0m_wrapfunc\u001b[0m\u001b[1;33m(\u001b[0m\u001b[0ma\u001b[0m\u001b[1;33m,\u001b[0m \u001b[1;34m'cumsum'\u001b[0m\u001b[1;33m,\u001b[0m \u001b[0maxis\u001b[0m\u001b[1;33m=\u001b[0m\u001b[0maxis\u001b[0m\u001b[1;33m,\u001b[0m \u001b[0mdtype\u001b[0m\u001b[1;33m=\u001b[0m\u001b[0mdtype\u001b[0m\u001b[1;33m,\u001b[0m \u001b[0mout\u001b[0m\u001b[1;33m=\u001b[0m\u001b[0mout\u001b[0m\u001b[1;33m)\u001b[0m\u001b[1;33m\u001b[0m\u001b[1;33m\u001b[0m\u001b[0m\n\u001b[0m\u001b[0;32m   2484\u001b[0m \u001b[1;33m\u001b[0m\u001b[0m\n\u001b[0;32m   2485\u001b[0m \u001b[1;33m\u001b[0m\u001b[0m\n",
      "\u001b[1;32mc:\\users\\patmakur\\.virtualenvs\\zero_to_pandas_jovianml-kpap4wlg\\lib\\site-packages\\numpy\\core\\fromnumeric.py\u001b[0m in \u001b[0;36m_wrapfunc\u001b[1;34m(obj, method, *args, **kwds)\u001b[0m\n\u001b[0;32m     56\u001b[0m \u001b[1;33m\u001b[0m\u001b[0m\n\u001b[0;32m     57\u001b[0m     \u001b[1;32mtry\u001b[0m\u001b[1;33m:\u001b[0m\u001b[1;33m\u001b[0m\u001b[1;33m\u001b[0m\u001b[0m\n\u001b[1;32m---> 58\u001b[1;33m         \u001b[1;32mreturn\u001b[0m \u001b[0mbound\u001b[0m\u001b[1;33m(\u001b[0m\u001b[1;33m*\u001b[0m\u001b[0margs\u001b[0m\u001b[1;33m,\u001b[0m \u001b[1;33m**\u001b[0m\u001b[0mkwds\u001b[0m\u001b[1;33m)\u001b[0m\u001b[1;33m\u001b[0m\u001b[1;33m\u001b[0m\u001b[0m\n\u001b[0m\u001b[0;32m     59\u001b[0m     \u001b[1;32mexcept\u001b[0m \u001b[0mTypeError\u001b[0m\u001b[1;33m:\u001b[0m\u001b[1;33m\u001b[0m\u001b[1;33m\u001b[0m\u001b[0m\n\u001b[0;32m     60\u001b[0m         \u001b[1;31m# A TypeError occurs if the object does have such a method in its\u001b[0m\u001b[1;33m\u001b[0m\u001b[1;33m\u001b[0m\u001b[1;33m\u001b[0m\u001b[0m\n",
      "\u001b[1;31mAxisError\u001b[0m: axis 1 is out of bounds for array of dimension 1"
     ]
    }
   ],
   "source": [
    "arr = np.array([\n",
    "    [[1,2,4]], \n",
    "    [[1,3], [4,7]]\n",
    "], dtype=object)\n",
    "\n",
    "np.cumsum(arr, axis=1)"
   ]
  },
  {
   "cell_type": "markdown",
   "metadata": {},
   "source": [
    "Suppose we are doing a cumulative sum on a multi-dimensional complex numpy array then we have to be always careful about the axis.\n",
    "\n",
    "We have to make sure that the axis matches with our original array. "
   ]
  },
  {
   "cell_type": "markdown",
   "metadata": {},
   "source": [
    "### Some closing comments about when to use this function.\n",
    "Numpy's cumsum() function is a helpful function for finance related datasets. For example in real-world scenario you might be able to find the cumulative sum of sales a particular company had made in a year, or finding out the cumulative sum of subscribers of Netflix in a year, and many more application examples."
   ]
  },
  {
   "cell_type": "code",
   "execution_count": 28,
   "metadata": {},
   "outputs": [
    {
     "data": {
      "application/javascript": [
       "window.require && require([\"base/js/namespace\"],function(Jupyter){Jupyter.notebook.save_checkpoint()})"
      ],
      "text/plain": [
       "<IPython.core.display.Javascript object>"
      ]
     },
     "metadata": {},
     "output_type": "display_data"
    },
    {
     "name": "stdout",
     "output_type": "stream",
     "text": [
      "[jovian] Attempting to save notebook..\u001b[0m\n",
      "[jovian] Updating notebook \"aakashns/numpy-array-operations\" on https://jovian.ml/\u001b[0m\n",
      "[jovian] Uploading notebook..\u001b[0m\n",
      "[jovian] Capturing environment..\u001b[0m\n",
      "[jovian] Committed successfully! https://jovian.ml/aakashns/numpy-array-operations\u001b[0m\n"
     ]
    },
    {
     "data": {
      "text/plain": [
       "'https://jovian.ml/aakashns/numpy-array-operations'"
      ]
     },
     "execution_count": 28,
     "metadata": {},
     "output_type": "execute_result"
    }
   ],
   "source": [
    "jovian.commit()"
   ]
  },
  {
   "cell_type": "markdown",
   "metadata": {},
   "source": [
    "## Conclusion\n",
    "\n",
    "Summarize what was covered in this notebook, and where to go next\n",
    "\n",
    "In this notebook we have learnt how to do array shape manipulation, search array elements using where() function, and even some statistical use cases. \n",
    "\n",
    "Numpy is a very powerful and useful tool that is used by many people around the world. If you follow some real case studies of Numpy you will be amazed to know how powerfull the library is. A fun fact that Numpy was used in the computational image photography of the first ever real picture of a black hole (damn!!!!!!!!!). That is so amazing."
   ]
  },
  {
   "cell_type": "markdown",
   "metadata": {},
   "source": [
    "## Reference Links\n",
    "Provide links to your references and other interesting articles about Numpy arrays:\n",
    "* Numpy official tutorial : https://numpy.org/doc/stable/user/quickstart.html\n",
    "* https://stackoverflow.com/questions/50656307/numpy-typeerror-ufunc-bitwise-and-not-supported-for-the-input-types-when-us\n",
    "* http://www.degeneratestate.org/posts/2016/Oct/23/image-processing-with-numpy/\n",
    "* Case studies: go to https://numpy.org/ and scroll down to \"CASE STUDIES\" section. "
   ]
  },
  {
   "cell_type": "code",
   "execution_count": 178,
   "metadata": {},
   "outputs": [
    {
     "data": {
      "application/javascript": [
       "window.require && require([\"base/js/namespace\"],function(Jupyter){Jupyter.notebook.save_checkpoint()})"
      ],
      "text/plain": [
       "<IPython.core.display.Javascript object>"
      ]
     },
     "metadata": {},
     "output_type": "display_data"
    },
    {
     "name": "stdout",
     "output_type": "stream",
     "text": [
      "[jovian] Attempting to save notebook..\n",
      "[jovian] Updating notebook \"phani/numpy-assignment-2\" on https://jovian.ml/\n",
      "[jovian] Uploading notebook..\n",
      "[jovian] Capturing environment..\n"
     ]
    },
    {
     "name": "stderr",
     "output_type": "stream",
     "text": [
      "[jovian] Error: Failed to read Anaconda environment using command: \"conda env export -n base --no-builds\"\n"
     ]
    },
    {
     "name": "stdout",
     "output_type": "stream",
     "text": [
      "[jovian] Committed successfully! https://jovian.ml/phani/numpy-assignment-2\n"
     ]
    },
    {
     "data": {
      "text/plain": [
       "'https://jovian.ml/phani/numpy-assignment-2'"
      ]
     },
     "execution_count": 178,
     "metadata": {},
     "output_type": "execute_result"
    }
   ],
   "source": [
    "jovian.commit()"
   ]
  },
  {
   "cell_type": "code",
   "execution_count": null,
   "metadata": {},
   "outputs": [],
   "source": []
  }
 ],
 "metadata": {
  "kernelspec": {
   "display_name": "Python 3",
   "language": "python",
   "name": "python3"
  },
  "language_info": {
   "codemirror_mode": {
    "name": "ipython",
    "version": 3
   },
   "file_extension": ".py",
   "mimetype": "text/x-python",
   "name": "python",
   "nbconvert_exporter": "python",
   "pygments_lexer": "ipython3",
   "version": "3.8.3"
  }
 },
 "nbformat": 4,
 "nbformat_minor": 4
}
